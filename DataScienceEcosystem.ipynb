{
 "cells": [
  {
   "cell_type": "markdown",
   "id": "db4061cb",
   "metadata": {},
   "source": [
    "# Data Science Tools and Ecosystem"
   ]
  },
  {
   "cell_type": "markdown",
   "id": "8b11b8b3",
   "metadata": {},
   "source": [
    "## In this notebook, Data Science Tools and Ecosystem are summarized."
   ]
  },
  {
   "cell_type": "markdown",
   "id": "e46cac56",
   "metadata": {},
   "source": [
    "**Objectives:**\n",
    " * Paython\n",
    " * HTML\n",
    " * JAVA \n",
    " \n",
    "    "
   ]
  },
  {
   "cell_type": "markdown",
   "id": "b561cd8a",
   "metadata": {},
   "source": [
    "Some of the popular languages that Data Scientists use are:\n",
    "\n",
    "1. Paython\n",
    "2. java\n",
    "3. HTML\n",
    "4. C++ "
   ]
  },
  {
   "cell_type": "markdown",
   "id": "ea70696b",
   "metadata": {},
   "source": [
    "Some of the commonly used libraries used by Data Scientists include:\n",
    "\n",
    "1. NumPy.\n",
    "2. Keras.\n",
    "3. Pandas.\n",
    "4. PyTorch.\n",
    "5. SciPy."
   ]
  },
  {
   "cell_type": "markdown",
   "id": "9f294567",
   "metadata": {},
   "source": [
    "| Data Science Tools |\n",
    "| ------------ |\n",
    "| Pandas | \n",
    "| Seaborn |\n",
    "| Matplotlib |"
   ]
  },
  {
   "cell_type": "markdown",
   "id": "3dc2eff0",
   "metadata": {},
   "source": [
    "### Below are a few examples of evaluating arithmetic expressions in Python \n",
    "\n"
   ]
  },
  {
   "cell_type": "markdown",
   "id": "186369c3",
   "metadata": {},
   "source": [
    " \n",
    " $ x^2 + y^2 = z^2 $\n",
    "\n",
    "\n"
   ]
  },
  {
   "cell_type": "markdown",
   "id": "69118d5f",
   "metadata": {},
   "source": [
    "$ X^2 = c $"
   ]
  },
  {
   "cell_type": "markdown",
   "id": "1a92dad9",
   "metadata": {},
   "source": [
    " #### This a simple arithmetic expression to mutiply then add integers.\n",
    "\n"
   ]
  },
  {
   "cell_type": "code",
   "execution_count": 6,
   "id": "0fc2b8bc",
   "metadata": {},
   "outputs": [
    {
     "data": {
      "text/plain": [
       "17"
      ]
     },
     "execution_count": 6,
     "metadata": {},
     "output_type": "execute_result"
    }
   ],
   "source": [
    "(3*4)+5"
   ]
  },
  {
   "cell_type": "markdown",
   "id": "8d76ff31",
   "metadata": {},
   "source": [
    "#### This will convert 200 minutes to hours by diving by 60."
   ]
  },
  {
   "cell_type": "code",
   "execution_count": 22,
   "id": "b6f9ba2c",
   "metadata": {},
   "outputs": [
    {
     "name": "stdout",
     "output_type": "stream",
     "text": [
      "3.3333333333333335\n"
     ]
    }
   ],
   "source": [
    "\n",
    " Minutes = 200 \n",
    " Minutes = Hours * 60\n",
    " Hours = Minutes / 60\n",
    " print (Hours)\n",
    "    "
   ]
  },
  {
   "cell_type": "markdown",
   "id": "47a27c8d",
   "metadata": {},
   "source": [
    "## Author\n",
    "\n",
    "Ahmad Meesaq Payman"
   ]
  }
 ],
 "metadata": {
  "kernelspec": {
   "display_name": "Python 3 (ipykernel)",
   "language": "python",
   "name": "python3"
  },
  "language_info": {
   "codemirror_mode": {
    "name": "ipython",
    "version": 3
   },
   "file_extension": ".py",
   "mimetype": "text/x-python",
   "name": "python",
   "nbconvert_exporter": "python",
   "pygments_lexer": "ipython3",
   "version": "3.11.5"
  }
 },
 "nbformat": 4,
 "nbformat_minor": 5
}
